{
 "cells": [
  {
   "cell_type": "code",
   "execution_count": null,
   "metadata": {
    "collapsed": false
   },
   "outputs": [],
   "source": [
    "%matplotlib inline"
   ]
  },
  {
   "cell_type": "markdown",
   "metadata": {},
   "source": [
    "\n",
    "# CENSURE feature detector\n",
    "\n",
    "\n",
    "The CENSURE feature detector is a scale-invariant center-surround detector\n",
    "(CENSURE) that claims to outperform other detectors and is capable of real-time\n",
    "implementation.\n",
    "\n"
   ]
  },
  {
   "cell_type": "code",
   "execution_count": null,
   "metadata": {
    "collapsed": false
   },
   "outputs": [
    {
     "name": "stderr",
     "output_type": "stream",
     "text": [
      "//anaconda/lib/python3.5/site-packages/matplotlib/tight_layout.py:222: UserWarning: tight_layout : falling back to Agg renderer\n",
      "  warnings.warn(\"tight_layout : falling back to Agg renderer\")\n"
     ]
    }
   ],
   "source": [
    "from skimage import data\n",
    "from skimage import transform as tf\n",
    "from skimage.feature import CENSURE\n",
    "from skimage.color import rgb2gray\n",
    "\n",
    "import matplotlib.pyplot as plt\n",
    "\n",
    "\n",
    "img_orig = rgb2gray(data.astronaut())\n",
    "tform = tf.AffineTransform(scale=(1.5, 1.5), rotation=0.5,\n",
    "                           translation=(150, -200))\n",
    "img_warp = tf.warp(img_orig, tform)\n",
    "\n",
    "detector = CENSURE()\n",
    "\n",
    "fig, ax = plt.subplots(nrows=1, ncols=2, figsize=(12, 6))\n",
    "\n",
    "detector.detect(img_orig)\n",
    "\n",
    "ax[0].imshow(img_orig, cmap=plt.cm.gray)\n",
    "ax[0].scatter(detector.keypoints[:, 1], detector.keypoints[:, 0],\n",
    "              2 ** detector.scales, facecolors='none', edgecolors='r')\n",
    "ax[0].set_title(\"Original Image\")\n",
    "\n",
    "detector.detect(img_warp)\n",
    "\n",
    "ax[1].imshow(img_warp, cmap=plt.cm.gray)\n",
    "ax[1].scatter(detector.keypoints[:, 1], detector.keypoints[:, 0],\n",
    "              2 ** detector.scales, facecolors='none', edgecolors='r')\n",
    "ax[1].set_title('Transformed Image')\n",
    "\n",
    "for a in ax:\n",
    "    a.axis('off')\n",
    "    \n",
    "plt.tight_layout()\n",
    "plt.show()"
   ]
  },
  {
   "cell_type": "code",
   "execution_count": 10,
   "metadata": {
    "collapsed": false
   },
   "outputs": [
    {
     "data": {
      "text/plain": [
       "True"
      ]
     },
     "execution_count": 10,
     "metadata": {},
     "output_type": "execute_result"
    }
   ],
   "source": [
    "import cv2\n",
    "import numpy as np\n",
    "img = cv2.imread('Micrographs/000739.jpg')\n",
    "gray= cv2.cvtColor(img,cv2.COLOR_BGR2GRAY)\n",
    "sift = cv2.xfeatures2d.SIFT_create()\n",
    "kp = sift.detect(gray,None)\n",
    "img=cv2.drawKeypoints(gray,kp,img,flags=4)\n",
    "cv2.imwrite('sift_keypoints.jpg',img)"
   ]
  },
  {
   "cell_type": "code",
   "execution_count": 11,
   "metadata": {
    "collapsed": true
   },
   "outputs": [],
   "source": [
    "kp, des = sift.detectAndCompute(gray,None)"
   ]
  },
  {
   "cell_type": "code",
   "execution_count": 32,
   "metadata": {
    "collapsed": false
   },
   "outputs": [
    {
     "name": "stdout",
     "output_type": "stream",
     "text": [
      "(155.8693084716797, 2.389070987701416)\n",
      "[   0.   30.  123.   31.    0.    0.    0.    0.    0.    2.   29.   61.\n",
      "   13.    4.    0.    0.    0.    0.    0.    2.    9.    5.    0.    0.\n",
      "    0.    0.    0.    0.    0.    0.    0.    0.   18.   96.  123.   23.\n",
      "    8.    9.    1.    1.  102.   66.   61.   39.   25.   59.   20.   17.\n",
      "    5.    0.    0.    6.   93.  123.   12.    4.   14.    0.    0.    3.\n",
      "   27.   12.    0.    7.   31.   18.    8.    3.    9.   63.  104.   44.\n",
      "  123.   31.    2.    5.   20.   18.   28.  102.   17.    4.    0.   21.\n",
      "  123.  123.   60.    6.   96.    8.    0.    4.   48.   74.   72.   32.\n",
      "   12.    3.    2.   11.   32.   25.   72.   30.   40.   38.    0.    1.\n",
      "    3.   17.   46.   50.   36.   63.    2.    2.   10.   75.   94.    9.\n",
      "   21.   10.    3.    9.   42.  123.   84.    7.]\n"
     ]
    },
    {
     "data": {
      "text/plain": [
       "['__class__',\n",
       " '__delattr__',\n",
       " '__dir__',\n",
       " '__doc__',\n",
       " '__eq__',\n",
       " '__format__',\n",
       " '__ge__',\n",
       " '__getattribute__',\n",
       " '__gt__',\n",
       " '__hash__',\n",
       " '__init__',\n",
       " '__le__',\n",
       " '__lt__',\n",
       " '__ne__',\n",
       " '__new__',\n",
       " '__reduce__',\n",
       " '__reduce_ex__',\n",
       " '__repr__',\n",
       " '__setattr__',\n",
       " '__sizeof__',\n",
       " '__str__',\n",
       " '__subclasshook__',\n",
       " 'angle',\n",
       " 'class_id',\n",
       " 'octave',\n",
       " 'pt',\n",
       " 'response',\n",
       " 'size']"
      ]
     },
     "execution_count": 32,
     "metadata": {},
     "output_type": "execute_result"
    }
   ],
   "source": [
    "print(kp[0].pt[:])\n",
    "print(des[1])\n",
    "dir(kp[1])"
   ]
  },
  {
   "cell_type": "code",
   "execution_count": 6,
   "metadata": {
    "collapsed": false
   },
   "outputs": [],
   "source": [
    "from skimage import data\n",
    "from skimage import transform as tf\n",
    "from skimage.feature import ORB\n",
    "from skimage.color import rgb2gray\n",
    "\n",
    "import matplotlib.pyplot as plt\n",
    "\n",
    "\n",
    "img_orig = rgb2gray(data.astronaut())\n",
    "\n",
    "\n",
    "detector = ORB()\n",
    "\n",
    "\n",
    "\n",
    "detector.detect_and_extract(img_orig)\n",
    "\n",
    "\n",
    "# fig, ax = plt.subplots(nrows=1, ncols=2, figsize=(12, 6))\n",
    "# ax[0].imshow(img_orig, cmap=plt.cm.gray)\n",
    "# ax[0].scatter(detector.keypoints[:, 1], detector.keypoints[:, 0],\n",
    "#               2 ** detector.scales, facecolors='none', edgecolors='r')\n",
    "# ax[0].set_title(\"Original Image\")\n",
    "\n",
    "# detector.detect(img_warp)\n",
    "\n",
    "# for a in ax:\n",
    "#     a.axis('off')\n",
    "    \n",
    "# plt.tight_layout()\n",
    "# plt.show()"
   ]
  },
  {
   "cell_type": "code",
   "execution_count": 16,
   "metadata": {
    "collapsed": false
   },
   "outputs": [
    {
     "name": "stdout",
     "output_type": "stream",
     "text": [
      "(500, 256)\n",
      "[False False  True False  True  True  True  True False  True  True  True\n",
      "  True False  True  True False  True  True False  True False False  True\n",
      " False  True  True  True  True False False False False  True False  True\n",
      "  True  True  True  True False False  True False False  True False  True\n",
      "  True  True  True False  True False False False  True  True  True False\n",
      " False  True  True  True False  True  True  True  True  True  True  True\n",
      "  True  True  True False  True False False  True False  True False False\n",
      " False  True  True  True False False  True False  True  True False False\n",
      " False  True  True  True False  True  True  True False  True False False\n",
      "  True  True  True  True False False False False False  True  True False\n",
      "  True  True False  True  True False  True False  True  True  True  True\n",
      " False  True  True  True  True  True False False  True  True  True  True\n",
      " False  True  True  True False  True  True  True False  True False False\n",
      "  True False False  True False  True False  True  True  True False False\n",
      "  True  True  True  True False False  True False False  True  True  True\n",
      "  True False False  True  True  True False False  True  True  True False\n",
      "  True False False  True  True  True False  True False  True False False\n",
      "  True  True False  True False  True  True  True  True False  True False\n",
      "  True  True False  True False False False False False False False  True\n",
      "  True False False  True False False False False  True False  True  True\n",
      "  True  True  True False False  True False  True  True False False  True\n",
      " False False False False]\n",
      "[ 367.  399.]\n"
     ]
    }
   ],
   "source": [
    "import numpy as np\n",
    "print(np.shape(detector.descriptors))\n",
    "print(detector.descriptors[1,:])\n",
    "print(detector.keypoints[1,:])"
   ]
  },
  {
   "cell_type": "code",
   "execution_count": null,
   "metadata": {
    "collapsed": true
   },
   "outputs": [],
   "source": []
  }
 ],
 "metadata": {
  "anaconda-cloud": {},
  "kernelspec": {
   "display_name": "Python [Root]",
   "language": "python",
   "name": "Python [Root]"
  },
  "language_info": {
   "codemirror_mode": {
    "name": "ipython",
    "version": 3
   },
   "file_extension": ".py",
   "mimetype": "text/x-python",
   "name": "python",
   "nbconvert_exporter": "python",
   "pygments_lexer": "ipython3",
   "version": "3.5.2"
  }
 },
 "nbformat": 4,
 "nbformat_minor": 0
}
