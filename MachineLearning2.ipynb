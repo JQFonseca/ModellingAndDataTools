{
 "cells": [
  {
   "cell_type": "markdown",
   "metadata": {},
   "source": [
    "# Machine Learning 2 - Classifying images of microstructure"
   ]
  },
  {
   "cell_type": "markdown",
   "metadata": {},
   "source": [
    "## Introduction\n",
    "We thought it might be fun to use our new-found knowledge of machine learning to tackle a real, current research problem. A hot-topic in materials science, both in academia and industry, is how we might make use of machine learning and the tools of Big Data in discovering new materials. An important challenge in this field is how we deal with the sort of data that we get from experiments, which can be noisy and shows large variations. In this notebook we will show how the tools in scikit-learn allow us to automatically classify images of microstructures of different types.\n",
    "\n",
    "The method we will use is taken from a recent research article:\n",
    "\n",
    "I have implemented it especially for this course. You can read more about it in the original paper, but I will also describe it briefly below. It's a bit involved, but bear with me and it should become clearer as we work through the notebook."
   ]
  },
  {
   "cell_type": "markdown",
   "metadata": {},
   "source": [
    "## The method "
   ]
  },
  {
   "cell_type": "code",
   "execution_count": null,
   "metadata": {
    "collapsed": true
   },
   "outputs": [],
   "source": []
  }
 ],
 "metadata": {
  "kernelspec": {
   "display_name": "Python [Root]",
   "language": "python",
   "name": "Python [Root]"
  },
  "language_info": {
   "codemirror_mode": {
    "name": "ipython",
    "version": 3
   },
   "file_extension": ".py",
   "mimetype": "text/x-python",
   "name": "python",
   "nbconvert_exporter": "python",
   "pygments_lexer": "ipython3",
   "version": "3.5.3"
  }
 },
 "nbformat": 4,
 "nbformat_minor": 2
}
